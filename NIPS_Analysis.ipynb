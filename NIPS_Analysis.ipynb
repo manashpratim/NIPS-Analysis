{
  "nbformat": 4,
  "nbformat_minor": 0,
  "metadata": {
    "colab": {
      "name": "NIPS Analysis.ipynb",
      "version": "0.3.2",
      "provenance": [],
      "collapsed_sections": [],
      "include_colab_link": true
    },
    "kernelspec": {
      "name": "python3",
      "display_name": "Python 3"
    },
    "accelerator": "TPU"
  },
  "cells": [
    {
      "cell_type": "markdown",
      "metadata": {
        "id": "view-in-github",
        "colab_type": "text"
      },
      "source": [
        "<a href=\"https://colab.research.google.com/github/manashpratim/NIPS-Analysis/blob/master/NIPS_Analysis.ipynb\" target=\"_parent\"><img src=\"https://colab.research.google.com/assets/colab-badge.svg\" alt=\"Open In Colab\"/></a>"
      ]
    },
    {
      "cell_type": "code",
      "metadata": {
        "id": "9g8eYCuLl1B0",
        "colab_type": "code",
        "colab": {
          "base_uri": "https://localhost:8080/",
          "height": 637
        },
        "outputId": "00076158-a9ea-4756-ce53-1f206a377542"
      },
      "source": [
        "#Downloading the datasets\n",
        "!wget --no-check-certificate \\\n",
        "      \"https://storage.googleapis.com/kaggle-datasets/491/9097/papers.csv.zip?GoogleAccessId=web-data@kaggle-161607.iam.gserviceaccount.com&Expires=1561714834&Signature=ZzX3AmnGPVRf8wo3m97I%2B%2Fs%2FjJ3umoNMjPcjCxscCuhL9K65qY0XZj%2FX7nJbSZXJ8FODdxvWwqeD0%2Bqpc0Zmfm85QPnKVIQovo%2BdXuRIkgytxAKOn6f%2BDdbDjw%2FELttFejPQF1WrVgAKXe3L0gE7lTaC05pZ8vR3ysQ%2BU2U6VjiUHUM0xlO63eIohURdU5pCiyH1IHt%2BpI2kMvxe9ivv7a0%2BNNYeM7JQvD8oIYR6Q10FTWqphyKdIoVloQGhpVw2QhDIo5Gcd0Exqal6R8RjbNRe84fQcayogU2wHSPi0CGM1lD2fQBqww3bK3%2Bd2adC6%2B4BKx8sObF3X9%2Fie5gn9A%3D%3D\"\\\n",
        "      -O \"/tmp/nips.zip\"\n",
        "!wget --no-check-certificate \\\n",
        "      \"https://storage.googleapis.com/kaggle-datasets/491/991/authors.csv?GoogleAccessId=web-data@kaggle-161607.iam.gserviceaccount.com&Expires=1561730676&Signature=MpNf3XArOWJGEHn1LpF83deBQXuWcFIMNRbkaYWdLyDyDoF4Mg1f1RDtxpUXGxC%2BaUyg1JisDI%2F3DmH4%2F2OkVIq62728UQunvJTETWbTcrSNo%2FzNvzqGbLwloCe8OicnACfwbweZDAovmrK3HoNcZKNB47o%2FPkMblNBZ23pK1DKrIPFd3crx1nf1TFx7pC52hVtvFYWWC4yyKCwAIePn5Wfn%2FvRGfEbeYx8oA7zp3f%2BtGLsSQqE%2FYMaYB0DMOyDkcS5MGrBvr%2F2mOU8KHsgVAiBFFDmqwMhp0p%2FdbL6igPjZ%2FpFerCsBXmDfT%2FeJw81N5jMw9rQyZVH1zRXSAWm8gQ%3D%3D\"\\\n",
        "       -O \"/tmp/nips_author.csv\"\n",
        "\n",
        "\n",
        "!wget --no-check-certificate \\\n",
        "      \"https://storage.googleapis.com/kaggle-datasets/491/991/paper_authors.csv?GoogleAccessId=web-data@kaggle-161607.iam.gserviceaccount.com&Expires=1561732101&Signature=eqKzx2HK0zqLM1vUKhKKW4ddwusRa4nJQjfl7%2BA9DfVErIDU1ma9vT2izlv4F8oKVZRpNPCfBAPMYtVnjkS4oivfqLGDxYk1%2B98UQiOPSsoRRIopP9CkIPJyneVYAOavYcgYtge3NsdSXbuYCdoN5DFGh%2FG01qmByWZ5DOqb8X44hQJjmW4t6JW08TXI1CwPfTGj6StrS64k5QauMUwbjVqZtRxuILJ0X0ZCQnpW0WO6gtfIIHhW05xpTWjIdNTtkItPxaLLlHdSN5Enxpbxq8U%2B0utQ6nmlG3%2BoftKDMIEr3AB%2FX3Z%2F2RO9VT%2FtAP8MqhFPg1aPOTKr2x48mEJVzg%3D%3D\"\\\n",
        "      -O \"/tmp/nips_author_paper.csv\""
      ],
      "execution_count": 63,
      "outputs": [
        {
          "output_type": "stream",
          "text": [
            "--2019-06-25 14:31:19--  https://storage.googleapis.com/kaggle-datasets/491/9097/papers.csv.zip?GoogleAccessId=web-data@kaggle-161607.iam.gserviceaccount.com&Expires=1561714834&Signature=ZzX3AmnGPVRf8wo3m97I%2B%2Fs%2FjJ3umoNMjPcjCxscCuhL9K65qY0XZj%2FX7nJbSZXJ8FODdxvWwqeD0%2Bqpc0Zmfm85QPnKVIQovo%2BdXuRIkgytxAKOn6f%2BDdbDjw%2FELttFejPQF1WrVgAKXe3L0gE7lTaC05pZ8vR3ysQ%2BU2U6VjiUHUM0xlO63eIohURdU5pCiyH1IHt%2BpI2kMvxe9ivv7a0%2BNNYeM7JQvD8oIYR6Q10FTWqphyKdIoVloQGhpVw2QhDIo5Gcd0Exqal6R8RjbNRe84fQcayogU2wHSPi0CGM1lD2fQBqww3bK3%2Bd2adC6%2B4BKx8sObF3X9%2Fie5gn9A%3D%3D\n",
            "Resolving storage.googleapis.com (storage.googleapis.com)... 74.125.69.128, 2607:f8b0:4001:c03::80\n",
            "Connecting to storage.googleapis.com (storage.googleapis.com)|74.125.69.128|:443... connected.\n",
            "HTTP request sent, awaiting response... 200 OK\n",
            "Length: 73128610 (70M) [application/zip]\n",
            "Saving to: ‘/tmp/nips.zip’\n",
            "\n",
            "/tmp/nips.zip       100%[===================>]  69.74M  60.8MB/s    in 1.1s    \n",
            "\n",
            "2019-06-25 14:31:20 (60.8 MB/s) - ‘/tmp/nips.zip’ saved [73128610/73128610]\n",
            "\n",
            "--2019-06-25 14:31:22--  https://storage.googleapis.com/kaggle-datasets/491/991/authors.csv?GoogleAccessId=web-data@kaggle-161607.iam.gserviceaccount.com&Expires=1561730676&Signature=MpNf3XArOWJGEHn1LpF83deBQXuWcFIMNRbkaYWdLyDyDoF4Mg1f1RDtxpUXGxC%2BaUyg1JisDI%2F3DmH4%2F2OkVIq62728UQunvJTETWbTcrSNo%2FzNvzqGbLwloCe8OicnACfwbweZDAovmrK3HoNcZKNB47o%2FPkMblNBZ23pK1DKrIPFd3crx1nf1TFx7pC52hVtvFYWWC4yyKCwAIePn5Wfn%2FvRGfEbeYx8oA7zp3f%2BtGLsSQqE%2FYMaYB0DMOyDkcS5MGrBvr%2F2mOU8KHsgVAiBFFDmqwMhp0p%2FdbL6igPjZ%2FpFerCsBXmDfT%2FeJw81N5jMw9rQyZVH1zRXSAWm8gQ%3D%3D\n",
            "Resolving storage.googleapis.com (storage.googleapis.com)... 172.217.212.128, 2607:f8b0:4001:c05::80\n",
            "Connecting to storage.googleapis.com (storage.googleapis.com)|172.217.212.128|:443... connected.\n",
            "HTTP request sent, awaiting response... 200 OK\n",
            "Length: 170262 (166K) [text/csv]\n",
            "Saving to: ‘/tmp/nips_author.csv’\n",
            "\n",
            "/tmp/nips_author.cs 100%[===================>] 166.27K  --.-KB/s    in 0.002s  \n",
            "\n",
            "2019-06-25 14:31:22 (108 MB/s) - ‘/tmp/nips_author.csv’ saved [170262/170262]\n",
            "\n",
            "--2019-06-25 14:31:24--  https://storage.googleapis.com/kaggle-datasets/491/991/paper_authors.csv?GoogleAccessId=web-data@kaggle-161607.iam.gserviceaccount.com&Expires=1561732101&Signature=eqKzx2HK0zqLM1vUKhKKW4ddwusRa4nJQjfl7%2BA9DfVErIDU1ma9vT2izlv4F8oKVZRpNPCfBAPMYtVnjkS4oivfqLGDxYk1%2B98UQiOPSsoRRIopP9CkIPJyneVYAOavYcgYtge3NsdSXbuYCdoN5DFGh%2FG01qmByWZ5DOqb8X44hQJjmW4t6JW08TXI1CwPfTGj6StrS64k5QauMUwbjVqZtRxuILJ0X0ZCQnpW0WO6gtfIIHhW05xpTWjIdNTtkItPxaLLlHdSN5Enxpbxq8U%2B0utQ6nmlG3%2BoftKDMIEr3AB%2FX3Z%2F2RO9VT%2FtAP8MqhFPg1aPOTKr2x48mEJVzg%3D%3D\n",
            "Resolving storage.googleapis.com (storage.googleapis.com)... 108.177.120.128, 2607:f8b0:4001:c03::80\n",
            "Connecting to storage.googleapis.com (storage.googleapis.com)|108.177.120.128|:443... connected.\n",
            "HTTP request sent, awaiting response... 200 OK\n",
            "Length: 276250 (270K) [text/csv]\n",
            "Saving to: ‘/tmp/nips_author_paper.csv’\n",
            "\n",
            "/tmp/nips_author_pa 100%[===================>] 269.78K  --.-KB/s    in 0.003s  \n",
            "\n",
            "2019-06-25 14:31:24 (99.2 MB/s) - ‘/tmp/nips_author_paper.csv’ saved [276250/276250]\n",
            "\n"
          ],
          "name": "stdout"
        }
      ]
    },
    {
      "cell_type": "code",
      "metadata": {
        "id": "eV7dOGXso010",
        "colab_type": "code",
        "colab": {}
      },
      "source": [
        "# Unzipping the downloaded dataset\n",
        "import os\n",
        "import zipfile\n",
        "\n",
        "local_zip='/tmp/nips.zip'\n",
        "zip_ref=zipfile.ZipFile(local_zip,'r')\n",
        "zip_ref.extractall('/tmp/nips')\n",
        "zip_ref.close()"
      ],
      "execution_count": 0,
      "outputs": []
    },
    {
      "cell_type": "code",
      "metadata": {
        "id": "7wr0ZJ0yoPZS",
        "colab_type": "code",
        "colab": {}
      },
      "source": [
        "#The nips folder contains a .csv file containing the attributes of the papers.\n",
        "import csv\n",
        "fields = [] \n",
        "rows = [] \n",
        "import numpy as np\n",
        "\n",
        "with open('/tmp/nips/papers.csv','r') as training_file:\n",
        "    reader = csv.reader(x.replace('\\0', '') for x in training_file)\n",
        "    fields = next(reader)  \n",
        "    for row in reader: \n",
        "            rows.append(row)"
      ],
      "execution_count": 0,
      "outputs": []
    },
    {
      "cell_type": "code",
      "metadata": {
        "id": "AVMBKIQmtqLX",
        "colab_type": "code",
        "colab": {}
      },
      "source": [
        "import pandas as pd\n",
        "df=pd.read_csv('/tmp/nips/papers.csv')\n",
        "df1=pd.read_csv('/tmp/nips_author.csv')\n",
        "df2=pd.read_csv('/tmp/nips_author_paper.csv')"
      ],
      "execution_count": 0,
      "outputs": []
    },
    {
      "cell_type": "code",
      "metadata": {
        "id": "W5LQg1qgDZVK",
        "colab_type": "code",
        "colab": {}
      },
      "source": [
        "df1.rename(columns={'id': 'author_id'}, inplace=True)\n",
        "df.rename(columns={'id': 'paper_id'}, inplace=True)\n",
        "result = pd.merge(df1, df2, on=\"author_id\")"
      ],
      "execution_count": 0,
      "outputs": []
    },
    {
      "cell_type": "code",
      "metadata": {
        "id": "LA5_w_s_1oqU",
        "colab_type": "code",
        "colab": {
          "base_uri": "https://localhost:8080/",
          "height": 314
        },
        "outputId": "e0a0c874-45d7-427c-e261-ae75148ede2f"
      },
      "source": [
        "%matplotlib inline\n",
        "import matplotlib.pyplot as plt\n",
        "import seaborn as sns\n",
        "x=df['year'].unique()\n",
        "y=df['year'].value_counts()\n",
        "plt.bar(x, y, width=0.8, bottom=None, align='center', data=df)\n",
        "plt.xlabel('Year')\n",
        "plt.ylabel('Number of Papers')\n",
        "plt.title('Yearly Number of Papers')"
      ],
      "execution_count": 38,
      "outputs": [
        {
          "output_type": "execute_result",
          "data": {
            "text/plain": [
              "Text(0.5, 1.0, 'Yearly Number of Papers')"
            ]
          },
          "metadata": {
            "tags": []
          },
          "execution_count": 38
        },
        {
          "output_type": "display_data",
          "data": {
            "image/png": "[encoded data removed]",
            "text/plain": [
              "<Figure size 432x288 with 1 Axes>"
            ]
          },
          "metadata": {
            "tags": []
          }
        }
      ]
    },
    {
      "cell_type": "code",
      "metadata": {
        "id": "coD6eBjoIxgW",
        "colab_type": "code",
        "colab": {
          "base_uri": "https://localhost:8080/",
          "height": 314
        },
        "outputId": "4b48d306-5d71-48a0-9952-e447c1838993"
      },
      "source": [
        "df3=pd.DataFrame({'author_count' : result.groupby( [ \"paper_id\"] ).size()}).reset_index()\n",
        "import numpy as np\n",
        "x=df3['author_count'].unique()\n",
        "y=df3['author_count'].value_counts()\n",
        "plt.bar(x, y, width=0.8, bottom=None, align='center', data=df3)\n",
        "plt.xticks(np.arange(min(x),max(x), 1))\n",
        "plt.xlabel('Number of Authors')\n",
        "plt.ylabel('Number of Papers')\n",
        "plt.title('Number of Authors per Paper')"
      ],
      "execution_count": 99,
      "outputs": [
        {
          "output_type": "execute_result",
          "data": {
            "text/plain": [
              "Text(0.5, 1.0, 'Number of Authors per Paper')"
            ]
          },
          "metadata": {
            "tags": []
          },
          "execution_count": 99
        },
        {
          "output_type": "display_data",
          "data": {
            "image/png": "[encoded data removed]",
            "text/plain": [
              "<Figure size 432x288 with 1 Axes>"
            ]
          },
          "metadata": {
            "tags": []
          }
        }
      ]
    },
    {
      "cell_type": "code",
      "metadata": {
        "id": "YWSbekK5_Nmv",
        "colab_type": "code",
        "colab": {
          "base_uri": "https://localhost:8080/",
          "height": 427
        },
        "outputId": "2959e171-24a2-41ab-f709-07470eeef94c"
      },
      "source": [
        "df4=pd.DataFrame({'total_papers' : result.groupby(['author_id','name']).size()}).reset_index()\n",
        "df5=df4.sort_values('total_papers',ascending=False).head(10)\n",
        "x=df5['name']\n",
        "y=df5['total_papers']\n",
        "plt.bar(x, y, width=0.8, bottom=None, align='center', data=df5)\n",
        "plt.xticks(rotation='vertical')\n",
        "plt.xlabel('Names of Authors')\n",
        "plt.ylabel('Number of Papers')\n",
        "plt.title('Authors with Highest Number of Published Papers')"
      ],
      "execution_count": 125,
      "outputs": [
        {
          "output_type": "execute_result",
          "data": {
            "text/plain": [
              "Text(0.5, 1.0, 'Authors with Highest Number of Published Papers')"
            ]
          },
          "metadata": {
            "tags": []
          },
          "execution_count": 125
        },
        {
          "output_type": "display_data",
          "data": {
            "image/png": "[encoded data removed]",
            "text/plain": [
              "<Figure size 432x288 with 1 Axes>"
            ]
          },
          "metadata": {
            "tags": []
          }
        }
      ]
    },
    {
      "cell_type": "code",
      "metadata": {
        "id": "g2w9an6MRxJ-",
        "colab_type": "code",
        "colab": {
          "base_uri": "https://localhost:8080/",
          "height": 518
        },
        "outputId": "d20f3f51-0429-40da-b44a-f43690efb96d"
      },
      "source": [
        "a=df[[\"author_id\",\"year\"]]\n",
        "a.rename(columns={'author_id': 'paper_id'}, inplace=True)\n",
        "b=pd.merge(df2, a, on=\"paper_id\")\n",
        "c=pd.merge(df1,b,on='author_id')\n",
        "df6=pd.DataFrame({'total_years' : c.groupby(['name']).year.nunique()}).reset_index()\n",
        "df7=df6.sort_values('total_years',ascending=False).head(10)\n",
        "x=df7['name']\n",
        "y=df7['total_years']\n",
        "plt.bar(x, y, width=0.8, bottom=None, align='center', data=df5)\n",
        "plt.xticks(rotation='vertical')\n",
        "plt.xlabel('Names of Authors')\n",
        "plt.ylabel('Number of Years')\n",
        "plt.title('Authors who Published Papers for Most Years')"
      ],
      "execution_count": 192,
      "outputs": [
        {
          "output_type": "stream",
          "text": [
            "/usr/local/lib/python3.6/dist-packages/pandas/core/frame.py:4025: SettingWithCopyWarning: \n",
            "A value is trying to be set on a copy of a slice from a DataFrame\n",
            "\n",
            "See the caveats in the documentation: http://pandas.pydata.org/pandas-docs/stable/indexing.html#indexing-view-versus-copy\n",
            "  return super(DataFrame, self).rename(**kwargs)\n"
          ],
          "name": "stderr"
        },
        {
          "output_type": "execute_result",
          "data": {
            "text/plain": [
              "Text(0.5, 1.0, 'Authors who Published Papers for Most Years')"
            ]
          },
          "metadata": {
            "tags": []
          },
          "execution_count": 192
        },
        {
          "output_type": "display_data",
          "data": {
            "image/png": "[encoded data removed]",
            "text/plain": [
              "<Figure size 432x288 with 1 Axes>"
            ]
          },
          "metadata": {
            "tags": []
          }
        }
      ]
    },
    {
      "cell_type": "code",
      "metadata": {
        "id": "kkPhFPKcc_XL",
        "colab_type": "code",
        "colab": {}
      },
      "source": [
        "\n"
      ],
      "execution_count": 0,
      "outputs": []
    },
    {
      "cell_type": "code",
      "metadata": {
        "id": "xET6nOfTdTy2",
        "colab_type": "code",
        "colab": {}
      },
      "source": [
        ""
      ],
      "execution_count": 0,
      "outputs": []
    },
    {
      "cell_type": "code",
      "metadata": {
        "id": "e1zTGctLUGnX",
        "colab_type": "code",
        "colab": {}
      },
      "source": [
        ""
      ],
      "execution_count": 0,
      "outputs": []
    },
    {
      "cell_type": "code",
      "metadata": {
        "id": "ibPlYmPT_N_4",
        "colab_type": "code",
        "colab": {}
      },
      "source": [
        ""
      ],
      "execution_count": 0,
      "outputs": []
    },
    {
      "cell_type": "code",
      "metadata": {
        "id": "KuMaYPkjYttz",
        "colab_type": "code",
        "colab": {}
      },
      "source": [
        ""
      ],
      "execution_count": 0,
      "outputs": []
    },
    {
      "cell_type": "code",
      "metadata": {
        "id": "OU295YY2z98v",
        "colab_type": "code",
        "colab": {}
      },
      "source": [
        ""
      ],
      "execution_count": 0,
      "outputs": []
    },
    {
      "cell_type": "code",
      "metadata": {
        "id": "8d-uHHJy0qal",
        "colab_type": "code",
        "colab": {}
      },
      "source": [
        ""
      ],
      "execution_count": 0,
      "outputs": []
    },
    {
      "cell_type": "code",
      "metadata": {
        "id": "xKkq6bDS0g6N",
        "colab_type": "code",
        "colab": {}
      },
      "source": [
        ""
      ],
      "execution_count": 0,
      "outputs": []
    },
    {
      "cell_type": "code",
      "metadata": {
        "id": "tWJuuvN74i_o",
        "colab_type": "code",
        "colab": {}
      },
      "source": [
        ""
      ],
      "execution_count": 0,
      "outputs": []
    },
    {
      "cell_type": "code",
      "metadata": {
        "id": "InyZ4M2GtKLI",
        "colab_type": "code",
        "colab": {}
      },
      "source": [
        ""
      ],
      "execution_count": 0,
      "outputs": []
    },
    {
      "cell_type": "code",
      "metadata": {
        "id": "PF80-mOHnhbt",
        "colab_type": "code",
        "colab": {}
      },
      "source": [
        ""
      ],
      "execution_count": 0,
      "outputs": []
    }
  ]
}