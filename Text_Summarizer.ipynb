{
  "nbformat": 4,
  "nbformat_minor": 0,
  "metadata": {
    "colab": {
      "name": "Text Summarizer.ipynb",
      "version": "0.3.2",
      "provenance": [],
      "collapsed_sections": [],
      "include_colab_link": true
    },
    "kernelspec": {
      "name": "python3",
      "display_name": "Python 3"
    },
    "accelerator": "GPU"
  },
  "cells": [
    {
      "cell_type": "markdown",
      "metadata": {
        "id": "view-in-github",
        "colab_type": "text"
      },
      "source": [
        "<a href=\"https://colab.research.google.com/github/manashpratim/NIPS-Analysis/blob/master/Text_Summarizer.ipynb\" target=\"_parent\"><img src=\"https://colab.research.google.com/assets/colab-badge.svg\" alt=\"Open In Colab\"/></a>"
      ]
    },
    {
      "cell_type": "markdown",
      "metadata": {
        "id": "zDErYyTIlw-X",
        "colab_type": "text"
      },
      "source": [
        "# **Seq2Seq** LSTM Text Summarizer"
      ]
    },
    {
      "cell_type": "code",
      "metadata": {
        "id": "S2ZYLMNAFg2l",
        "colab_type": "code",
        "colab": {
          "base_uri": "https://localhost:8080/",
          "height": 237
        },
        "outputId": "bb9f1d8f-119b-4afa-9f20-45920dd629f4"
      },
      "source": [
        "!wget --no-check-certificate \\\n",
        "      \"https://storage.googleapis.com/kaggle-datasets/491/9097/papers.csv.zip?GoogleAccessId=web-data@kaggle-161607.iam.gserviceaccount.com&Expires=1561714834&Signature=ZzX3AmnGPVRf8wo3m97I%2B%2Fs%2FjJ3umoNMjPcjCxscCuhL9K65qY0XZj%2FX7nJbSZXJ8FODdxvWwqeD0%2Bqpc0Zmfm85QPnKVIQovo%2BdXuRIkgytxAKOn6f%2BDdbDjw%2FELttFejPQF1WrVgAKXe3L0gE7lTaC05pZ8vR3ysQ%2BU2U6VjiUHUM0xlO63eIohURdU5pCiyH1IHt%2BpI2kMvxe9ivv7a0%2BNNYeM7JQvD8oIYR6Q10FTWqphyKdIoVloQGhpVw2QhDIo5Gcd0Exqal6R8RjbNRe84fQcayogU2wHSPi0CGM1lD2fQBqww3bK3%2Bd2adC6%2B4BKx8sObF3X9%2Fie5gn9A%3D%3D\"\\\n",
        "      -O \"/tmp/nips.zip\""
      ],
      "execution_count": 1,
      "outputs": [
        {
          "output_type": "stream",
          "text": [
            "--2019-06-26 15:46:56--  https://storage.googleapis.com/kaggle-datasets/491/9097/papers.csv.zip?GoogleAccessId=web-data@kaggle-161607.iam.gserviceaccount.com&Expires=1561714834&Signature=ZzX3AmnGPVRf8wo3m97I%2B%2Fs%2FjJ3umoNMjPcjCxscCuhL9K65qY0XZj%2FX7nJbSZXJ8FODdxvWwqeD0%2Bqpc0Zmfm85QPnKVIQovo%2BdXuRIkgytxAKOn6f%2BDdbDjw%2FELttFejPQF1WrVgAKXe3L0gE7lTaC05pZ8vR3ysQ%2BU2U6VjiUHUM0xlO63eIohURdU5pCiyH1IHt%2BpI2kMvxe9ivv7a0%2BNNYeM7JQvD8oIYR6Q10FTWqphyKdIoVloQGhpVw2QhDIo5Gcd0Exqal6R8RjbNRe84fQcayogU2wHSPi0CGM1lD2fQBqww3bK3%2Bd2adC6%2B4BKx8sObF3X9%2Fie5gn9A%3D%3D\n",
            "Resolving storage.googleapis.com (storage.googleapis.com)... 172.217.25.208, 2404:6800:4004:81b::2010\n",
            "Connecting to storage.googleapis.com (storage.googleapis.com)|172.217.25.208|:443... connected.\n",
            "HTTP request sent, awaiting response... 200 OK\n",
            "Length: 73128610 (70M) [application/zip]\n",
            "Saving to: ‘/tmp/nips.zip’\n",
            "\n",
            "\r/tmp/nips.zip         0%[                    ]       0  --.-KB/s               \r/tmp/nips.zip        18%[==>                 ]  12.68M  63.4MB/s               \r/tmp/nips.zip        95%[==================> ]  66.43M   166MB/s               \r/tmp/nips.zip       100%[===================>]  69.74M   171MB/s    in 0.4s    \n",
            "\n",
            "2019-06-26 15:46:56 (171 MB/s) - ‘/tmp/nips.zip’ saved [73128610/73128610]\n",
            "\n"
          ],
          "name": "stdout"
        }
      ]
    },
    {
      "cell_type": "code",
      "metadata": {
        "id": "RCYwq--uIS5z",
        "colab_type": "code",
        "colab": {}
      },
      "source": [
        "# Unzipping the downloaded dataset\n",
        "import os\n",
        "import zipfile\n",
        "\n",
        "local_zip='/tmp/nips.zip'\n",
        "zip_ref=zipfile.ZipFile(local_zip,'r')\n",
        "zip_ref.extractall('/tmp/nips')\n",
        "zip_ref.close()"
      ],
      "execution_count": 0,
      "outputs": []
    },
    {
      "cell_type": "code",
      "metadata": {
        "id": "_bXc4z1BIW-3",
        "colab_type": "code",
        "colab": {}
      },
      "source": [
        "import pandas as pd\n",
        "df=pd.read_csv('/tmp/nips/papers.csv')"
      ],
      "execution_count": 0,
      "outputs": []
    },
    {
      "cell_type": "code",
      "metadata": {
        "id": "TIjkcDnAIcZo",
        "colab_type": "code",
        "colab": {}
      },
      "source": [
        "nips=[]\n",
        "for i in range(len(df)):\n",
        "  paper=[]\n",
        "  paper.append(df['title'][i])\n",
        "  paper.append(df['paper_text'][i])\n",
        "  nips.append(paper)\n",
        "  "
      ],
      "execution_count": 0,
      "outputs": []
    },
    {
      "cell_type": "code",
      "metadata": {
        "id": "Z6V5mm8uMMyo",
        "colab_type": "code",
        "colab": {}
      },
      "source": [
        "for i in range(len(nips)):\n",
        "  abstract=nips[i][1].find('ABSTRACT')\n",
        "  references=nips[i][1].find('REFERENCES')\n",
        "  nips[i][1]=nips[i][1][abstract:references]"
      ],
      "execution_count": 0,
      "outputs": []
    },
    {
      "cell_type": "code",
      "metadata": {
        "id": "7Vx-0FdIKYZX",
        "colab_type": "code",
        "colab": {
          "base_uri": "https://localhost:8080/",
          "height": 90
        },
        "outputId": "24786724-1ef8-4575-badb-3f9d343663b1"
      },
      "source": [
        "import nltk\n",
        "from nltk import word_tokenize\n",
        "nltk.download('stopwords')\n",
        "from nltk.corpus import stopwords\n",
        "nltk.download('punkt')\n",
        "stop_words = set(stopwords.words('english'))\n",
        "def mystopwords(text):\n",
        "    return ' '.join([w for w in word_tokenize(text) if not w in stop_words])"
      ],
      "execution_count": 6,
      "outputs": [
        {
          "output_type": "stream",
          "text": [
            "[nltk_data] Downloading package stopwords to /root/nltk_data...\n",
            "[nltk_data]   Package stopwords is already up-to-date!\n",
            "[nltk_data] Downloading package punkt to /root/nltk_data...\n",
            "[nltk_data]   Package punkt is already up-to-date!\n"
          ],
          "name": "stdout"
        }
      ]
    },
    {
      "cell_type": "code",
      "metadata": {
        "id": "n_Xapk8yKHjA",
        "colab_type": "code",
        "colab": {}
      },
      "source": [
        "import re\n",
        "def clean_text(string):\n",
        "  clean=re.sub('[\\n]',' ',string)\n",
        "  clean=re.sub('[^a-zA-Z]',' ',clean)\n",
        "  clean=mystopwords(clean)\n",
        "  return clean"
      ],
      "execution_count": 0,
      "outputs": []
    },
    {
      "cell_type": "code",
      "metadata": {
        "id": "Uz3ZrLeaI5hl",
        "colab_type": "code",
        "colab": {}
      },
      "source": [
        "for i in range(len(nips)):\n",
        "  nips[i][0]=clean_text(nips[i][0])\n",
        "  nips[i][1]=clean_text(nips[i][1])"
      ],
      "execution_count": 0,
      "outputs": []
    },
    {
      "cell_type": "code",
      "metadata": {
        "id": "XEpfQKzuNt4q",
        "colab_type": "code",
        "colab": {}
      },
      "source": [
        "sentences=[]\n",
        "labels=[]\n",
        "for i in range(len(nips)):\n",
        "  sentences.append(nips[i][1])\n",
        "  labels.append(nips[i][0])"
      ],
      "execution_count": 0,
      "outputs": []
    },
    {
      "cell_type": "code",
      "metadata": {
        "id": "12YcHv__OXWC",
        "colab_type": "code",
        "colab": {}
      },
      "source": [
        "import tensorflow as tf\n",
        "import numpy as np\n",
        "\n",
        "from tensorflow.keras.preprocessing.text import Tokenizer\n",
        "from tensorflow.keras.preprocessing.sequence import pad_sequences\n",
        "from tensorflow.keras.utils import to_categorical\n",
        "from tensorflow.keras import regularizers\n",
        "\n",
        "embedding_dim = 100\n",
        "max_length = 1000\n",
        "trunc_type='post'\n",
        "padding_type='post'\n",
        "oov_tok = \"<OOV>\"\n",
        "training_size=len(nips)\n",
        "test_portion=.1\n",
        "\n",
        "\n",
        "tokenizer = Tokenizer()\n",
        "tokenizer.fit_on_texts(sentences)\n",
        "\n",
        "text_word_index = tokenizer.word_index\n",
        "text_vocab_size=len(text_word_index)\n",
        "\n",
        "text_sequences = tokenizer.texts_to_sequences(sentences)\n",
        "text_padded = pad_sequences(text_sequences, maxlen=max_length, padding=padding_type, truncating=trunc_type)\n",
        "\n",
        "\n",
        "tokenizer.fit_on_texts(labels)\n",
        "\n",
        "label_word_index = tokenizer.word_index\n",
        "label_vocab_size=len(label_word_index)\n",
        "\n",
        "label_sequences = tokenizer.texts_to_sequences(labels)\n",
        "label_padded = pad_sequences(label_sequences, maxlen=15, padding=padding_type, truncating=trunc_type)\n",
        "\n",
        "split = int(test_portion * training_size)\n",
        "\n",
        "test_sequences = text_padded[0:split]\n",
        "training_sequences = text_padded[split:training_size]\n",
        "test_labels = label_padded[0:split]\n",
        "training_labels = label_padded[split:training_size]"
      ],
      "execution_count": 0,
      "outputs": []
    },
    {
      "cell_type": "code",
      "metadata": {
        "id": "1_4FfZRpQwGk",
        "colab_type": "code",
        "colab": {
          "base_uri": "https://localhost:8080/",
          "height": 217
        },
        "outputId": "651a98ee-e453-4107-ae1b-b4fb5d2179ee"
      },
      "source": [
        "# Note this is the 100 dimension version of GloVe from Stanford\n",
        "# I unzipped and hosted it on my site to make this notebook easier\n",
        "!wget --no-check-certificate \\\n",
        "    https://storage.googleapis.com/laurencemoroney-blog.appspot.com/glove.6B.100d.txt \\\n",
        "    -O /tmp/glove.6B.100d.txt\n",
        "embeddings_index = {}\n",
        "with open('/tmp/glove.6B.100d.txt') as f:\n",
        "    for line in f:\n",
        "        values = line.split()\n",
        "        word = values[0]\n",
        "        coefs = np.asarray(values[1:], dtype='float32')\n",
        "        embeddings_index[word] = coefs\n",
        "\n",
        "vocab_zize=14999\n",
        "        \n",
        "        \n",
        "text_embeddings_matrix = np.zeros((text_vocab_size+1, embedding_dim))\n",
        "for word, i in text_word_index.items():\n",
        "    embedding_vector = embeddings_index.get(word)\n",
        "    if embedding_vector is not None:\n",
        "        text_embeddings_matrix[i] = embedding_vector\n",
        "        \n",
        "        \n",
        "label_embeddings_matrix = np.zeros((label_vocab_size+1, embedding_dim))\n",
        "for word, i in label_word_index.items():\n",
        "    embedding_vector = embeddings_index.get(word)\n",
        "    if embedding_vector is not None:\n",
        "        label_embeddings_matrix[i] = embedding_vector"
      ],
      "execution_count": 11,
      "outputs": [
        {
          "output_type": "stream",
          "text": [
            "--2019-06-26 15:49:15--  https://storage.googleapis.com/laurencemoroney-blog.appspot.com/glove.6B.100d.txt\n",
            "Resolving storage.googleapis.com (storage.googleapis.com)... 172.217.31.176, 2404:6800:4004:80b::2010\n",
            "Connecting to storage.googleapis.com (storage.googleapis.com)|172.217.31.176|:443... connected.\n",
            "HTTP request sent, awaiting response... 200 OK\n",
            "Length: 347116733 (331M) [text/plain]\n",
            "Saving to: ‘/tmp/glove.6B.100d.txt’\n",
            "\n",
            "/tmp/glove.6B.100d. 100%[===================>] 331.04M  65.7MB/s    in 5.0s    \n",
            "\n",
            "2019-06-26 15:49:20 (65.7 MB/s) - ‘/tmp/glove.6B.100d.txt’ saved [347116733/347116733]\n",
            "\n"
          ],
          "name": "stdout"
        }
      ]
    },
    {
      "cell_type": "code",
      "metadata": {
        "id": "gMZUiln2XHcf",
        "colab_type": "code",
        "colab": {}
      },
      "source": [
        "label_embeddings_matrix=label_embeddings_matrix[:15000]\n",
        "text_embeddings_matrix=text_embeddings_matrix[:15000]"
      ],
      "execution_count": 0,
      "outputs": []
    },
    {
      "cell_type": "code",
      "metadata": {
        "id": "t7d5o5KFV1FB",
        "colab_type": "code",
        "colab": {
          "base_uri": "https://localhost:8080/",
          "height": 54
        },
        "outputId": "9aaef5ae-372a-4ed2-aaab-01b67e49b97f"
      },
      "source": [
        "print(label_embeddings_matrix.shape)\n",
        "print(text_embeddings_matrix.shape)"
      ],
      "execution_count": 16,
      "outputs": [
        {
          "output_type": "stream",
          "text": [
            "(15000, 100)\n",
            "(15000, 100)\n"
          ],
          "name": "stdout"
        }
      ]
    },
    {
      "cell_type": "code",
      "metadata": {
        "id": "P2z8MBrrYoMt",
        "colab_type": "code",
        "colab": {
          "base_uri": "https://localhost:8080/",
          "height": 110
        },
        "outputId": "157891e0-1b43-4f09-f5ee-6788ead2cd63"
      },
      "source": [
        "import keras\n",
        "from keras import initializers\n",
        "from keras.optimizers import RMSprop\n",
        "from keras.models import Sequential,Model\n",
        "from keras.layers import Dense,LSTM,Dropout,Input,Activation,Add,concatenate, Embedding, RepeatVector\n",
        "from keras.layers.advanced_activations import LeakyReLU,PReLU\n",
        "from keras.callbacks import ModelCheckpoint\n",
        "from keras.models import load_model\n",
        "from keras.optimizers import Adam"
      ],
      "execution_count": 13,
      "outputs": [
        {
          "output_type": "stream",
          "text": [
            "Using TensorFlow backend.\n",
            "WARNING: Logging before flag parsing goes to stderr.\n",
            "W0626 15:49:35.364032 140347136403328 deprecation_wrapper.py:119] From /usr/local/lib/python3.6/dist-packages/keras/backend/tensorflow_backend.py:153: The name tf.get_default_graph is deprecated. Please use tf.compat.v1.get_default_graph instead.\n",
            "\n"
          ],
          "name": "stderr"
        }
      ]
    },
    {
      "cell_type": "code",
      "metadata": {
        "id": "q6DbfSNbYMKm",
        "colab_type": "code",
        "colab": {}
      },
      "source": [
        "encoder_embedding_layer = Embedding(input_dim = 15000, \n",
        "                                    output_dim = 100,\n",
        "                                    input_length = max_length,\n",
        "                                    weights = [text_embeddings_matrix],\n",
        "                                    trainable = False)\n",
        "decoder_embedding_layer = Embedding(input_dim = 15000, \n",
        "                                    output_dim = 100,\n",
        "                                    input_length = 15,\n",
        "                                    weights = [label_embeddings_matrix],\n",
        "                                    trainable = False)"
      ],
      "execution_count": 0,
      "outputs": []
    },
    {
      "cell_type": "code",
      "metadata": {
        "id": "lMs5pRW8ZKE7",
        "colab_type": "code",
        "colab": {}
      },
      "source": [
        "#MAX_LEN = 100\n",
        "VOCAB_SIZE =15000\n",
        "EMBEDDING_DIM = 100\n",
        "HIDDEN_UNITS = 64\n",
        "#VOCAB_SIZE = VOCAB_SIZE \n",
        "\n",
        "LEARNING_RATE = 0.002\n",
        "BATCH_SIZE = 32\n",
        "EPOCHS = 3"
      ],
      "execution_count": 0,
      "outputs": []
    },
    {
      "cell_type": "code",
      "metadata": {
        "id": "nPL-wNKaYu4m",
        "colab_type": "code",
        "colab": {}
      },
      "source": [
        "encoder_inputs = Input(shape=(1000,))\n",
        "encoder_embedding = encoder_embedding_layer(encoder_inputs)\n",
        "encoder_LSTM = LSTM(HIDDEN_UNITS, return_state=True)\n",
        "encoder_LSTM_R = LSTM(HIDDEN_UNITS, return_state=True, go_backwards=True)\n",
        "encoder_LSTM_S = LSTM(HIDDEN_UNITS, return_state=True, go_backwards=True)\n",
        "encoder_outputs_R, state_h_R, state_c_R = encoder_LSTM_R(encoder_embedding)\n",
        "encoder_outputs, state_h, state_c = encoder_LSTM(encoder_embedding)\n",
        "#encoder_outputs_S, state_h_S, state_c_S = encoder_LSTM_S(encoder_embedding)\n",
        "\n",
        "final_h = Add()([state_h, state_h_R])\n",
        "final_c = Add()([state_c, state_c_R])\n",
        "encoder_states = [final_h, final_c]\n",
        "\n",
        "\"\"\"\n",
        "decoder\n",
        "\"\"\"\n",
        "decoder_inputs = Input(shape=(15,))\n",
        "decoder_embedding = decoder_embedding_layer(decoder_inputs)\n",
        "decoder_LSTM = LSTM(HIDDEN_UNITS, return_sequences=True, return_state=True)\n",
        "decoder_outputs, _, _ = decoder_LSTM(decoder_embedding, initial_state=encoder_states) \n",
        "#decoder_dense_1 = Dense(VOCAB_SIZE//2, activation='relu')\n",
        "\n",
        "decoder_dense_2 = Dense(VOCAB_SIZE, activation='relu')\n",
        "#decoder_outputs = decoder_dense_1(decoder_outputs)\n",
        "decoder_outputs = decoder_dense_2(decoder_outputs)\n",
        "model= Model(inputs=[encoder_inputs,decoder_inputs], outputs=decoder_outputs)"
      ],
      "execution_count": 0,
      "outputs": []
    },
    {
      "cell_type": "code",
      "metadata": {
        "id": "wR0-EEQEcQtH",
        "colab_type": "code",
        "colab": {
          "base_uri": "https://localhost:8080/",
          "height": 581
        },
        "outputId": "2a5fa6a1-053a-4a21-c88d-b4d53d59fba7"
      },
      "source": [
        "model.summary()"
      ],
      "execution_count": 18,
      "outputs": [
        {
          "output_type": "stream",
          "text": [
            "__________________________________________________________________________________________________\n",
            "Layer (type)                    Output Shape         Param #     Connected to                     \n",
            "==================================================================================================\n",
            "input_2 (InputLayer)            (None, 1000)         0                                            \n",
            "__________________________________________________________________________________________________\n",
            "embedding_1 (Embedding)         (None, 1000, 100)    1500000     input_2[0][0]                    \n",
            "__________________________________________________________________________________________________\n",
            "input_3 (InputLayer)            (None, 15)           0                                            \n",
            "__________________________________________________________________________________________________\n",
            "lstm_1 (LSTM)                   [(None, 64), (None,  42240       embedding_1[1][0]                \n",
            "__________________________________________________________________________________________________\n",
            "lstm_2 (LSTM)                   [(None, 64), (None,  42240       embedding_1[1][0]                \n",
            "__________________________________________________________________________________________________\n",
            "embedding_2 (Embedding)         (None, 15, 100)      1500000     input_3[0][0]                    \n",
            "__________________________________________________________________________________________________\n",
            "add_1 (Add)                     (None, 64)           0           lstm_1[0][1]                     \n",
            "                                                                 lstm_2[0][1]                     \n",
            "__________________________________________________________________________________________________\n",
            "add_2 (Add)                     (None, 64)           0           lstm_1[0][2]                     \n",
            "                                                                 lstm_2[0][2]                     \n",
            "__________________________________________________________________________________________________\n",
            "lstm_4 (LSTM)                   [(None, 15, 64), (No 42240       embedding_2[0][0]                \n",
            "                                                                 add_1[0][0]                      \n",
            "                                                                 add_2[0][0]                      \n",
            "__________________________________________________________________________________________________\n",
            "dense_1 (Dense)                 (None, 15, 15000)    975000      lstm_4[0][0]                     \n",
            "==================================================================================================\n",
            "Total params: 4,101,720\n",
            "Trainable params: 1,101,720\n",
            "Non-trainable params: 3,000,000\n",
            "__________________________________________________________________________________________________\n"
          ],
          "name": "stdout"
        }
      ]
    },
    {
      "cell_type": "code",
      "metadata": {
        "id": "FBxTftTtZaBZ",
        "colab_type": "code",
        "colab": {}
      },
      "source": [
        "rmsprop = RMSprop(lr=0.01, clipnorm=1.)\n",
        "#model.compile(loss='mse', optimizer='adam', metrics=[\"accuracy\"])\n",
        "model.compile(loss='categorical_crossentropy', optimizer='adam', metrics=[\"accuracy\"])\n"
      ],
      "execution_count": 0,
      "outputs": []
    },
    {
      "cell_type": "code",
      "metadata": {
        "id": "s3UvXXt1aAPc",
        "colab_type": "code",
        "colab": {}
      },
      "source": [
        "import numpy as np\n",
        "num_samples = len(label_padded)\n",
        "#decoder_output_data = np.zeros((num_samples, MAX_LEN, VOCAB_SIZE))\n",
        "decoder_output_data = np.memmap('my_array.mmap',dtype='int32', mode='w+', shape=(num_samples, 15, VOCAB_SIZE))"
      ],
      "execution_count": 0,
      "outputs": []
    },
    {
      "cell_type": "code",
      "metadata": {
        "id": "OP5X71_faVgh",
        "colab_type": "code",
        "colab": {}
      },
      "source": [
        "for i, seqs in enumerate(label_padded):\n",
        "    for j, seq in enumerate(seqs):\n",
        "        if j > 0 and seq<=15000:\n",
        "            decoder_output_data[i][j][seq] = 1\n",
        "             #out = np.memmap('my_array.mmap', 'w+', shape=(200001, 3504), dtype=np.int64)"
      ],
      "execution_count": 0,
      "outputs": []
    },
    {
      "cell_type": "code",
      "metadata": {
        "id": "sMiF_144mfQh",
        "colab_type": "code",
        "colab": {}
      },
      "source": [
        "target_test = decoder_output_data[:split]\n",
        "target_train = decoder_output_data[split:]"
      ],
      "execution_count": 0,
      "outputs": []
    },
    {
      "cell_type": "code",
      "metadata": {
        "id": "XoAbKdfGZn9A",
        "colab_type": "code",
        "colab": {
          "base_uri": "https://localhost:8080/",
          "height": 1000
        },
        "outputId": "468f3fd8-4a75-4cba-88b3-b199054bba84"
      },
      "source": [
        "history = model.fit([training_sequences, training_labels], \n",
        "                     target_train, \n",
        "                     epochs=30, \n",
        "                     batch_size=500,\n",
        "                     validation_data=([test_sequences, test_labels], target_test))"
      ],
      "execution_count": 26,
      "outputs": [
        {
          "output_type": "stream",
          "text": [
            "Train on 6517 samples, validate on 724 samples\n",
            "Epoch 1/30\n",
            "6517/6517 [==============================] - 32s 5ms/step - loss: 5.7408 - acc: 0.4913 - val_loss: 3.8450 - val_acc: 0.6099\n",
            "Epoch 2/30\n",
            "6517/6517 [==============================] - 45s 7ms/step - loss: 3.4126 - acc: 0.6187 - val_loss: 3.4642 - val_acc: 0.6167\n",
            "Epoch 3/30\n",
            "6517/6517 [==============================] - 43s 7ms/step - loss: 3.1144 - acc: 0.6272 - val_loss: 3.2560 - val_acc: 0.6252\n",
            "Epoch 4/30\n",
            "6517/6517 [==============================] - 31s 5ms/step - loss: 2.9222 - acc: 0.6378 - val_loss: 3.1280 - val_acc: 0.6384\n",
            "Epoch 5/30\n",
            "6517/6517 [==============================] - 38s 6ms/step - loss: 2.7774 - acc: 0.6776 - val_loss: 2.9295 - val_acc: 0.7218\n",
            "Epoch 6/30\n",
            "6517/6517 [==============================] - 32s 5ms/step - loss: 2.5705 - acc: 0.7439 - val_loss: 2.7406 - val_acc: 0.7371\n",
            "Epoch 7/30\n",
            "6517/6517 [==============================] - 31s 5ms/step - loss: 2.3500 - acc: 0.7604 - val_loss: 1.9924 - val_acc: 0.7618\n",
            "Epoch 8/30\n",
            "6517/6517 [==============================] - 32s 5ms/step - loss: 1.8682 - acc: 0.7822 - val_loss: 1.6029 - val_acc: 0.7774\n",
            "Epoch 9/30\n",
            "6517/6517 [==============================] - 31s 5ms/step - loss: 1.3254 - acc: 0.7935 - val_loss: 2.6400 - val_acc: 0.7322\n",
            "Epoch 10/30\n",
            "6517/6517 [==============================] - 31s 5ms/step - loss: 2.1386 - acc: 0.7742 - val_loss: 1.7512 - val_acc: 0.7671\n",
            "Epoch 11/30\n",
            "6517/6517 [==============================] - 31s 5ms/step - loss: 1.1214 - acc: 0.8016 - val_loss: 1.2359 - val_acc: 0.7696\n",
            "Epoch 12/30\n",
            "6517/6517 [==============================] - 30s 5ms/step - loss: 1.2711 - acc: 0.7972 - val_loss: 0.6715 - val_acc: 0.7852\n",
            "Epoch 13/30\n",
            "6517/6517 [==============================] - 30s 5ms/step - loss: 0.4791 - acc: 0.8014 - val_loss: 0.4482 - val_acc: 0.7714\n",
            "Epoch 14/30\n",
            "6517/6517 [==============================] - 30s 5ms/step - loss: 0.2878 - acc: 0.7875 - val_loss: 0.2665 - val_acc: 0.7560\n",
            "Epoch 15/30\n",
            "6517/6517 [==============================] - 30s 5ms/step - loss: 1.1094 - acc: 0.7619 - val_loss: 2.0299 - val_acc: 0.7701\n",
            "Epoch 16/30\n",
            "6517/6517 [==============================] - 30s 5ms/step - loss: 1.2222 - acc: 0.8060 - val_loss: 0.7071 - val_acc: 0.7883\n",
            "Epoch 17/30\n",
            "6517/6517 [==============================] - 30s 5ms/step - loss: 0.4417 - acc: 0.8089 - val_loss: 0.4194 - val_acc: 0.7791\n",
            "Epoch 18/30\n",
            "6517/6517 [==============================] - 30s 5ms/step - loss: 0.2524 - acc: 0.7931 - val_loss: 1.5702 - val_acc: 0.7471\n",
            "Epoch 19/30\n",
            "6517/6517 [==============================] - 32s 5ms/step - loss: 1.6490 - acc: 0.7866 - val_loss: 1.1702 - val_acc: 0.7851\n",
            "Epoch 20/30\n",
            "6517/6517 [==============================] - 30s 5ms/step - loss: 0.7774 - acc: 0.8072 - val_loss: 0.5705 - val_acc: 0.7914\n",
            "Epoch 21/30\n",
            "6517/6517 [==============================] - 30s 5ms/step - loss: 0.3468 - acc: 0.8074 - val_loss: 0.3551 - val_acc: 0.7820\n",
            "Epoch 22/30\n",
            "6517/6517 [==============================] - 30s 5ms/step - loss: 0.2254 - acc: 0.7962 - val_loss: 0.2578 - val_acc: 0.7703\n",
            "Epoch 23/30\n",
            "6517/6517 [==============================] - 31s 5ms/step - loss: 0.1647 - acc: 0.7817 - val_loss: 0.2130 - val_acc: 0.7605\n",
            "Epoch 24/30\n",
            "6517/6517 [==============================] - 30s 5ms/step - loss: 0.1361 - acc: 0.7741 - val_loss: 0.2011 - val_acc: 0.7568\n",
            "Epoch 25/30\n",
            "6517/6517 [==============================] - 30s 5ms/step - loss: 0.1196 - acc: 0.7695 - val_loss: 0.1773 - val_acc: 0.7545\n",
            "Epoch 26/30\n",
            "6517/6517 [==============================] - 30s 5ms/step - loss: 0.1087 - acc: 0.7674 - val_loss: 0.1610 - val_acc: 0.7510\n",
            "Epoch 27/30\n",
            "6517/6517 [==============================] - 30s 5ms/step - loss: 0.0884 - acc: 0.7579 - val_loss: 0.1310 - val_acc: 0.7392\n",
            "Epoch 28/30\n",
            "6517/6517 [==============================] - 30s 5ms/step - loss: 0.0770 - acc: 0.7509 - val_loss: 0.1267 - val_acc: 0.7401\n",
            "Epoch 29/30\n",
            "6517/6517 [==============================] - 30s 5ms/step - loss: 0.0726 - acc: 0.7479 - val_loss: 0.1132 - val_acc: 0.7328\n",
            "Epoch 30/30\n",
            "6517/6517 [==============================] - 30s 5ms/step - loss: 0.0696 - acc: 0.7451 - val_loss: 0.1103 - val_acc: 0.7343\n"
          ],
          "name": "stdout"
        }
      ]
    },
    {
      "cell_type": "code",
      "metadata": {
        "id": "kQbg7ryBe3Q4",
        "colab_type": "code",
        "colab": {
          "base_uri": "https://localhost:8080/",
          "height": 610
        },
        "outputId": "7d20b6a8-f0fb-4222-af36-7292fc83389e"
      },
      "source": [
        "import matplotlib.image  as mpimg\n",
        "import matplotlib.pyplot as plt\n",
        "\n",
        "#-----------------------------------------------------------\n",
        "# Retrieve a list of list results on training and test data\n",
        "# sets for each training epoch\n",
        "#-----------------------------------------------------------\n",
        "acc=history.history['acc']\n",
        "val_acc=history.history['val_acc']\n",
        "loss=history.history['loss']\n",
        "val_loss=history.history['val_loss']\n",
        "\n",
        "epochs=range(len(acc)) # Get number of epochs\n",
        "\n",
        "#------------------------------------------------\n",
        "# Plot training and validation accuracy per epoch\n",
        "#------------------------------------------------\n",
        "plt.plot(epochs, acc, 'r')\n",
        "plt.plot(epochs, val_acc, 'b')\n",
        "plt.title('Training and validation accuracy')\n",
        "plt.xlabel(\"Epochs\")\n",
        "plt.ylabel(\"Accuracy\")\n",
        "plt.legend([\"Accuracy\", \"Validation Accuracy\"])\n",
        "\n",
        "plt.figure()\n",
        "\n",
        "#------------------------------------------------\n",
        "# Plot training and validation loss per epoch\n",
        "#------------------------------------------------\n",
        "plt.plot(epochs, loss, 'r')\n",
        "plt.plot(epochs, val_loss, 'b')\n",
        "plt.title('Training and validation loss')\n",
        "plt.xlabel(\"Epochs\")\n",
        "plt.ylabel(\"Loss\")\n",
        "plt.legend([\"Loss\", \"Validation Loss\"])\n",
        "\n",
        "plt.figure()\n",
        "\n"
      ],
      "execution_count": 52,
      "outputs": [
        {
          "output_type": "execute_result",
          "data": {
            "text/plain": [
              "<Figure size 432x288 with 0 Axes>"
            ]
          },
          "metadata": {
            "tags": []
          },
          "execution_count": 52
        },
        {
          "output_type": "display_data",
          "data": {
            "image/png": "[encoded data removed]",
            "text/plain": [
              "<Figure size 432x288 with 1 Axes>"
            ]
          },
          "metadata": {
            "tags": []
          }
        },
        {
          "output_type": "display_data",
          "data": {
            "image/png": "[encoded data removed]",
            "text/plain": [
              "<Figure size 432x288 with 1 Axes>"
            ]
          },
          "metadata": {
            "tags": []
          }
        },
        {
          "output_type": "display_data",
          "data": {
            "text/plain": [
              "<Figure size 432x288 with 0 Axes>"
            ]
          },
          "metadata": {
            "tags": []
          }
        }
      ]
    }
  ]
}